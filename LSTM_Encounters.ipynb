{
 "cells": [
  {
   "cell_type": "code",
   "execution_count": null,
   "metadata": {
    "collapsed": true
   },
   "outputs": [],
   "source": [
    "import pandas as pd"
   ]
  },
  {
   "cell_type": "code",
   "execution_count": null,
   "metadata": {
    "collapsed": false
   },
   "outputs": [],
   "source": [
    "#encounters = pd.read_csv('/data/MIMIC/mini_encounter_vectors_processed.csv')\n",
    "encounters = pd.read_csv('/data/MIMIC/encounter_vectors_processed.csv')"
   ]
  },
  {
   "cell_type": "code",
   "execution_count": null,
   "metadata": {
    "collapsed": false
   },
   "outputs": [],
   "source": [
    "encounters.to_hdf('/data/MIMIC/encounter_vectors_processed.h5', 'encounters')"
   ]
  },
  {
   "cell_type": "code",
   "execution_count": null,
   "metadata": {
    "collapsed": false
   },
   "outputs": [],
   "source": [
    "encounters = pd.read_hdf('/data/MIMIC/encounter_vectors_processed.h5','encounters')"
   ]
  },
  {
   "cell_type": "code",
   "execution_count": null,
   "metadata": {
    "collapsed": false
   },
   "outputs": [],
   "source": [
    "# run and predict from LSTM - handle roc auc below because don't want to rerun lstm\n",
    "from keras.models import Sequential\n",
    "from keras.layers import Dense\n",
    "from keras.layers import LSTM\n",
    "from keras.layers import Dropout\n",
    "from keras.layers.convolutional import Conv1D\n",
    "from keras.layers.convolutional import MaxPooling1D\n",
    "from keras.layers.embeddings import Embedding\n",
    "from keras.preprocessing import sequence\n",
    "from keras.callbacks import EarlyStopping\n",
    "\n",
    "batch_size = 256\n",
    "\n",
    "def lstm_fit_predict(train_X, train_y, test_X, test_y, roc_auc):    \n",
    "    model = Sequential()\n",
    "\n",
    "    model.add(LSTM(100, return_sequences=True, stateful=False, \n",
    "                   input_shape=(train_X.shape[1], train_X.shape[2]),\n",
    "                   recurrent_dropout=0.4, dropout=0.5))\n",
    "    model.add(LSTM(50, return_sequences=True, dropout=0.5, recurrent_dropout=0.3,\n",
    "                   stateful=False))\n",
    "    model.add(LSTM(50, return_sequences=False, dropout=0.5, recurrent_dropout=0.3,\n",
    "                   stateful=False))\n",
    "    model.add(Dense(1, activation='sigmoid'))\n",
    "    model.compile(loss='binary_crossentropy', optimizer='rmsprop', metrics=['accuracy'])\n",
    "    model.summary()\n",
    "    \n",
    "    case_proportion = (1-(sum(train_y)/float(len(train_y))))\n",
    "    \n",
    "    class_weights = {0: 1-case_proportion,\n",
    "                     1: case_proportion}\n",
    "    print(class_weights)\n",
    "    print(sum(train_y), len(train_y), float(sum(y))/len(y))\n",
    "    \n",
    "    early_stopping = EarlyStopping(monitor='loss', patience=3)\n",
    "    model.fit(train_X, train_y, validation_data=(test_X, test_y),\n",
    "              epochs=100, batch_size=batch_size, callbacks=[early_stopping],\n",
    "              class_weight=class_weights)\n",
    "    lstm_pred = model.predict(test_X)\n",
    "    \n",
    "    return roc_auc_score(test_y, lstm_pred, average='macro', sample_weight=None)"
   ]
  },
  {
   "cell_type": "code",
   "execution_count": null,
   "metadata": {
    "collapsed": false
   },
   "outputs": [],
   "source": [
    "import numpy as np\n",
    "from sklearn.metrics import roc_auc_score\n",
    "from keras.preprocessing import sequence\n",
    "from sklearn.cross_validation import StratifiedKFold\n",
    "import pickle as pkl\n",
    "from keras.preprocessing import sequence\n",
    " \n",
    "sequence_length = 30\n",
    "encounters['6MONTH'] = 0\n",
    "encounters['1YEAR'] = 0\n",
    "encounters.loc[(encounters['SURVIVAL'] > 0) & (encounters['SURVIVAL'] < 183), '6MONTH'] = 1\n",
    "encounters.loc[(encounters['SURVIVAL'] > 0) & (encounters['SURVIVAL'] < 366), '1YEAR'] = 1\n",
    "\n",
    "i = 0\n",
    "encounter_list = []\n",
    "y_list = []\n",
    "print('go through admissions')\n",
    "for unique in encounters['HADM_ID'].unique():\n",
    "    adm = encounters[encounters['HADM_ID'] == unique].copy()\n",
    "\n",
    "    if adm.shape[1] > 0:\n",
    "        y_list.append(adm['1YEAR'].head(1).values[0])\n",
    "        adm.drop(['SUBJECT_ID', 'ENCOUNTER_ID', '6MONTH', 'SURVIVAL', '1YEAR',\n",
    "                  'HADM_ID'], axis=1, inplace=True)\n",
    "\n",
    "        encounter_list.append(adm.values.tolist())\n",
    "        i += 1\n",
    "        \n",
    "print('arrays settled')\n",
    "encounter_array = np.asarray(encounter_list)\n",
    "X = sequence.pad_sequences(encounter_array, maxlen=sequence_length, \n",
    "                           padding='post', truncating='post')\n",
    "y = np.array(y_list)"
   ]
  },
  {
   "cell_type": "code",
   "execution_count": null,
   "metadata": {
    "collapsed": false
   },
   "outputs": [],
   "source": [
    "print(X.shape)\n",
    "print(X[0][:])\n",
    "print(encounters.columns)"
   ]
  },
  {
   "cell_type": "code",
   "execution_count": null,
   "metadata": {
    "collapsed": false
   },
   "outputs": [],
   "source": [
    "import h5py\n",
    "h5f = h5py.File('/data/MIMIC/Xy.h5', 'w')\n",
    "h5f.create_dataset('X', data=X)\n",
    "h5f.create_dataset('y', data=y)\n",
    "h5f.close()"
   ]
  },
  {
   "cell_type": "code",
   "execution_count": null,
   "metadata": {
    "collapsed": false
   },
   "outputs": [],
   "source": [
    "import h5py\n",
    "h5f = h5py.File('/data/MIMIC/Xy_all.h5','r')\n",
    "X = h5f['X'][:]\n",
    "y = h5f['y'][:]\n",
    "h5f.close()"
   ]
  },
  {
   "cell_type": "code",
   "execution_count": null,
   "metadata": {
    "collapsed": false,
    "scrolled": false
   },
   "outputs": [],
   "source": [
    "import numpy as np\n",
    "from sklearn.metrics import roc_auc_score\n",
    "from keras.preprocessing import sequence\n",
    "from sklearn.cross_validation import StratifiedKFold\n",
    "import pickle as pkl\n",
    "from keras.preprocessing import sequence\n",
    "\n",
    "print('Train model')\n",
    "cv = StratifiedKFold(y, n_folds=5, random_state=123)\n",
    "roc_auc = {'lstm':[]}\n",
    "\n",
    "for j, (train, test) in enumerate(cv):\n",
    "    roc_auc['lstm'].append(lstm_fit_predict(X[train], y[train],\n",
    "                                            X[test], y[test],\n",
    "                                            roc_auc))\n",
    "    print('Cross fold: ', j, roc_auc)\n",
    "print(roc_auc)"
   ]
  },
  {
   "cell_type": "code",
   "execution_count": null,
   "metadata": {
    "collapsed": false,
    "scrolled": false
   },
   "outputs": [],
   "source": [
    "import numpy as np\n",
    "from sklearn.metrics import roc_auc_score\n",
    "from keras.preprocessing import sequence\n",
    "from sklearn.cross_validation import StratifiedKFold\n",
    "import pickle as pkl\n",
    "from keras.preprocessing import sequence\n",
    "\n",
    "np.random.seed(123)\n",
    "all_scores = {}\n",
    "# use cross fold from above, training separately to tune LSTM\n",
    "for i in [1, 3, 5, 10, 20, 30, 50]:\n",
    "    sequence_length = i\n",
    "    encounters['6MONTH'] = 0\n",
    "    encounters['1YEAR'] = 0\n",
    "    encounters.loc[(encounters['SURVIVAL'] > 0) & (encounters['SURVIVAL'] < 183), '6MONTH'] = 1\n",
    "    encounters.loc[(encounters['SURVIVAL'] > 0) & (encounters['SURVIVAL'] < 366), '1YEAR'] = 1\n",
    "\n",
    "    j = 0\n",
    "    encounter_list = []\n",
    "    y_list = []\n",
    "    print('go through admissions')\n",
    "    for unique in encounters['HADM_ID'].unique():\n",
    "        adm = encounters[encounters['HADM_ID'] == unique].copy()\n",
    "\n",
    "        if adm.shape[1] > 0:\n",
    "            y_list.append(adm['1YEAR'].head(1).values[0])\n",
    "            adm.drop(['SUBJECT_ID', 'ENCOUNTER_ID', '6MONTH', 'SURVIVAL', '1YEAR',\n",
    "                      'HADM_ID'], axis=1, inplace=True)\n",
    "\n",
    "            encounter_list.append(adm.values.tolist())\n",
    "            j += 1\n",
    "\n",
    "    print('arrays settled')\n",
    "    encounter_array = np.asarray(encounter_list)\n",
    "    X = sequence.pad_sequences(encounter_array, maxlen=sequence_length, \n",
    "                               padding='post', truncating='post')\n",
    "    y = np.array(y_list)\n",
    "    \n",
    "    print('Train model')\n",
    "    cv = StratifiedKFold(y, n_folds=5, random_state=123)\n",
    "    roc_auc = {'lstm':[]}\n",
    "    \n",
    "    for j, (train, test) in enumerate(cv):\n",
    "        roc_auc['lstm'].append(lstm_fit_predict(X[train], y[train],\n",
    "                                                X[test], y[test],\n",
    "                                                roc_auc))\n",
    "        print('Cross fold: ', j, roc_auc)\n",
    "    all_scores[i] = roc_auc\n",
    "pkl.dump(all_scores, open('/data/MIMIC/lstm_encounter_scores.p', 'wb'))"
   ]
  }
 ],
 "metadata": {
  "anaconda-cloud": {},
  "kernelspec": {
   "display_name": "Python [default]",
   "language": "python",
   "name": "python2"
  },
  "language_info": {
   "codemirror_mode": {
    "name": "ipython",
    "version": 2
   },
   "file_extension": ".py",
   "mimetype": "text/x-python",
   "name": "python",
   "nbconvert_exporter": "python",
   "pygments_lexer": "ipython2",
   "version": "2.7.12"
  }
 },
 "nbformat": 4,
 "nbformat_minor": 1
}
