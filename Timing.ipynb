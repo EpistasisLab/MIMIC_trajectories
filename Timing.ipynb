{
 "cells": [
  {
   "cell_type": "code",
   "execution_count": 22,
   "metadata": {
    "collapsed": false
   },
   "outputs": [
    {
     "name": "stdout",
     "output_type": "stream",
     "text": [
      "(1725085, 2)\n",
      "   HADM_ID                 TIME\n",
      "0   100001  2117-09-11 08:22:00\n",
      "1   100001  2117-09-11 08:22:00\n",
      "2   100001  2117-09-11 08:22:00\n",
      "3   100001  2117-09-11 08:22:00\n",
      "4   100001  2117-09-11 08:22:00\n"
     ]
    }
   ],
   "source": [
    "import pandas as pd\n",
    "import numpy as np\n",
    "\n",
    "events = pd.read_csv('./data/event_times.csv')\n",
    "events.dropna(axis=0, inplace=True)\n",
    "\n",
    "print(events.shape)\n",
    "print(events.head())"
   ]
  },
  {
   "cell_type": "code",
   "execution_count": 1,
   "metadata": {
    "collapsed": false,
    "scrolled": true
   },
   "outputs": [
    {
     "ename": "NameError",
     "evalue": "name 'events' is not defined",
     "output_type": "error",
     "traceback": [
      "\u001b[0;31m---------------------------------------------------------------------------\u001b[0m",
      "\u001b[0;31mNameError\u001b[0m                                 Traceback (most recent call last)",
      "\u001b[0;32m<ipython-input-1-cf477d488930>\u001b[0m in \u001b[0;36m<module>\u001b[0;34m()\u001b[0m\n\u001b[1;32m      1\u001b[0m \u001b[0;32mfrom\u001b[0m \u001b[0mdatetime\u001b[0m \u001b[0;32mimport\u001b[0m \u001b[0mdatetime\u001b[0m\u001b[0;34m,\u001b[0m \u001b[0mtimedelta\u001b[0m\u001b[0;34m\u001b[0m\u001b[0m\n\u001b[1;32m      2\u001b[0m \u001b[0;34m\u001b[0m\u001b[0m\n\u001b[0;32m----> 3\u001b[0;31m \u001b[0munique_adms\u001b[0m \u001b[0;34m=\u001b[0m \u001b[0mevents\u001b[0m\u001b[0;34m.\u001b[0m\u001b[0mHADM_ID\u001b[0m\u001b[0;34m.\u001b[0m\u001b[0munique\u001b[0m\u001b[0;34m(\u001b[0m\u001b[0;34m)\u001b[0m\u001b[0;34m\u001b[0m\u001b[0m\n\u001b[0m\u001b[1;32m      4\u001b[0m \u001b[0mFMT\u001b[0m \u001b[0;34m=\u001b[0m \u001b[0;34m'%Y-%m-%d %H:%M:%S'\u001b[0m\u001b[0;34m\u001b[0m\u001b[0m\n\u001b[1;32m      5\u001b[0m \u001b[0mdelta_limit\u001b[0m \u001b[0;34m=\u001b[0m \u001b[0mtimedelta\u001b[0m\u001b[0;34m(\u001b[0m\u001b[0mhours\u001b[0m\u001b[0;34m=\u001b[0m\u001b[0;36m0\u001b[0m\u001b[0;34m,\u001b[0m \u001b[0mminutes\u001b[0m\u001b[0;34m=\u001b[0m\u001b[0;36m59\u001b[0m\u001b[0;34m)\u001b[0m\u001b[0;34m\u001b[0m\u001b[0m\n",
      "\u001b[0;31mNameError\u001b[0m: name 'events' is not defined"
     ]
    }
   ],
   "source": [
    "from datetime import datetime, timedelta\n",
    "\n",
    "unique_adms = events.HADM_ID.unique()\n",
    "FMT = '%Y-%m-%d %H:%M:%S'\n",
    "delta_limit = timedelta(hours=0, minutes=59)\n",
    "\n",
    "eid=1\n",
    "encounters = []\n",
    "for i in range(len(unique_adms)):\n",
    "    id = unique_adms[i]\n",
    "    \n",
    "    if i % 100 == 0:\n",
    "        print(i)\n",
    "    \n",
    "    adm_events = events[events['HADM_ID'] == id]['TIME']\n",
    "    \n",
    "    last_e = None\n",
    "    first_e = None\n",
    "    for e in adm_events:\n",
    "        if not first_e:\n",
    "            first_e = e\n",
    "        \n",
    "        if last_e:\n",
    "            tdelta = datetime.strptime(e, FMT) - datetime.strptime(last_e, FMT)\n",
    "            if tdelta > delta_limit:\n",
    "                encounters.append((eid, id, first_e, last_e))\n",
    "                eid += 1\n",
    "                first_e = None\n",
    "                last_e = None\n",
    "        last_e = e\n",
    "print(len(encounters))"
   ]
  },
  {
   "cell_type": "code",
   "execution_count": 34,
   "metadata": {
    "collapsed": false
   },
   "outputs": [],
   "source": [
    "encounter_df = pd.DataFrame(encounters)\n",
    "encounter_df.to_csv('./data/encounter_table.csv')"
   ]
  }
 ],
 "metadata": {
  "kernelspec": {
   "display_name": "Python 2",
   "language": "python",
   "name": "python2"
  },
  "language_info": {
   "codemirror_mode": {
    "name": "ipython",
    "version": 2
   },
   "file_extension": ".py",
   "mimetype": "text/x-python",
   "name": "python",
   "nbconvert_exporter": "python",
   "pygments_lexer": "ipython2",
   "version": "2.7.12"
  }
 },
 "nbformat": 4,
 "nbformat_minor": 0
}
